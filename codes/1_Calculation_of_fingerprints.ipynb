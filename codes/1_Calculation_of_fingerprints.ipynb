{
 "cells": [
  {
   "cell_type": "markdown",
   "metadata": {},
   "source": [
    "# Calculation of descriptors (or fingerprints) of chemicals\n",
    "- this is a demo code to calculate chemical features via python\n",
    "- chemicals structures are recorded as \"SMILES\""
   ]
  },
  {
   "cell_type": "code",
   "execution_count": 2,
   "metadata": {
    "colab": {},
    "colab_type": "code",
    "id": "dRVA4kvBDraM"
   },
   "outputs": [],
   "source": [
    "#this is a wrapper lib of rdkit\n",
    "from RDKitWrapper import draw_SMILES,Fingerprint,RDKitDescriptors"
   ]
  },
  {
   "cell_type": "markdown",
   "metadata": {},
   "source": [
    "# firstly, check chemical structures"
   ]
  },
  {
   "cell_type": "code",
   "execution_count": 3,
   "metadata": {},
   "outputs": [
    {
     "output_type": "execute_result",
     "data": {
      "text/plain": "<PIL.Image.Image image mode=RGBA size=300x300 at 0x7F7850751DA0>",
      "image/png": "[encoded data removed]"
     },
     "metadata": {},
     "execution_count": 3
    }
   ],
   "source": [
    "#benzoquinone\n",
    "draw_SMILES(\"O=C1C=CC(=O)C=C1\")"
   ]
  },
  {
   "cell_type": "markdown",
   "metadata": {},
   "source": [
    "# Descriptor calculation"
   ]
  },
  {
   "cell_type": "code",
   "execution_count": 4,
   "metadata": {},
   "outputs": [],
   "source": [
    "#Init descriptor calculation class\n",
    "desc=RDKitDescriptors()"
   ]
  },
  {
   "cell_type": "code",
   "execution_count": 5,
   "metadata": {},
   "outputs": [
    {
     "output_type": "execute_result",
     "data": {
      "text/plain": "{'MaxEStateIndex': 10.282777777777778,\n 'MinEStateIndex': -0.12074074074074037,\n 'MaxAbsEStateIndex': 10.282777777777778,\n 'MinAbsEStateIndex': 0.12074074074074037,\n 'qed': 0.4166812385860659,\n 'MolWt': 108.09599999999999,\n 'HeavyAtomMolWt': 104.06399999999998,\n 'ExactMolWt': 108.021129368,\n 'NumValenceElectrons': 40,\n 'NumRadicalElectrons': 0,\n 'MaxPartialCharge': 0.178413029551503,\n 'MinPartialCharge': -0.28996057425415284,\n 'MaxAbsPartialCharge': 0.28996057425415284,\n 'MinAbsPartialCharge': 0.178413029551503,\n 'FpDensityMorgan1': 0.75,\n 'FpDensityMorgan2': 1.0,\n 'FpDensityMorgan3': 1.25,\n 'BalabanJ': 2.8264765530384865,\n 'BertzCT': 148.70521621571413,\n 'Chi0': 5.983127663125442,\n 'Chi0n': 4.125897657686229,\n 'Chi0v': 4.125897657686229,\n 'Chi1': 3.787693700234704,\n 'Chi1n': 2.2296154955097816,\n 'Chi1v': 2.2296154955097816,\n 'Chi2n': 1.4714045207910322,\n 'Chi2v': 1.4714045207910322,\n 'Chi3n': 0.8237323731023262,\n 'Chi3v': 0.8237323731023262,\n 'Chi4n': 0.4396439643289409,\n 'Chi4v': 0.4396439643289409,\n 'HallKierAlpha': -1.1800000000000002,\n 'Ipc': 70.79892376087899,\n 'Kappa1': 4.966627565982405,\n 'Kappa2': 1.7381205361963379,\n 'Kappa3': 0.9041418956093399,\n 'LabuteASA': 46.50196858200238,\n 'PEOE_VSA1': 0.0,\n 'PEOE_VSA10': 0.0,\n 'PEOE_VSA11': 11.566489892729878,\n 'PEOE_VSA12': 0.0,\n 'PEOE_VSA13': 0.0,\n 'PEOE_VSA14': 0.0,\n 'PEOE_VSA2': 9.589074368143644,\n 'PEOE_VSA3': 0.0,\n 'PEOE_VSA4': 0.0,\n 'PEOE_VSA5': 0.0,\n 'PEOE_VSA6': 0.0,\n 'PEOE_VSA7': 24.304080427335524,\n 'PEOE_VSA8': 0.0,\n 'PEOE_VSA9': 0.0,\n 'SMR_VSA1': 9.589074368143644,\n 'SMR_VSA10': 11.566489892729878,\n 'SMR_VSA2': 0.0,\n 'SMR_VSA3': 0.0,\n 'SMR_VSA4': 0.0,\n 'SMR_VSA5': 0.0,\n 'SMR_VSA6': 0.0,\n 'SMR_VSA7': 24.304080427335524,\n 'SMR_VSA8': 0.0,\n 'SMR_VSA9': 0.0,\n 'SlogP_VSA1': 0.0,\n 'SlogP_VSA10': 0.0,\n 'SlogP_VSA11': 0.0,\n 'SlogP_VSA12': 0.0,\n 'SlogP_VSA2': 11.566489892729878,\n 'SlogP_VSA3': 9.589074368143644,\n 'SlogP_VSA4': 0.0,\n 'SlogP_VSA5': 0.0,\n 'SlogP_VSA6': 24.304080427335524,\n 'SlogP_VSA7': 0.0,\n 'SlogP_VSA8': 0.0,\n 'SlogP_VSA9': 0.0,\n 'TPSA': 34.14,\n 'EState_VSA1': 0.0,\n 'EState_VSA10': 9.589074368143644,\n 'EState_VSA11': 0.0,\n 'EState_VSA2': 11.566489892729878,\n 'EState_VSA3': 0.0,\n 'EState_VSA4': 0.0,\n 'EState_VSA5': 24.304080427335524,\n 'EState_VSA6': 0.0,\n 'EState_VSA7': 0.0,\n 'EState_VSA8': 0.0,\n 'EState_VSA9': 0.0,\n 'VSA_EState1': 0.0,\n 'VSA_EState10': 0.0,\n 'VSA_EState2': 20.565555555555555,\n 'VSA_EState3': 0.0,\n 'VSA_EState4': 0.0,\n 'VSA_EState5': -0.24148148148148074,\n 'VSA_EState6': 0.0,\n 'VSA_EState7': 5.0092592592592595,\n 'VSA_EState8': 0.0,\n 'VSA_EState9': 0.0,\n 'FractionCSP3': 0.0,\n 'HeavyAtomCount': 8,\n 'NHOHCount': 0,\n 'NOCount': 2,\n 'NumAliphaticCarbocycles': 1,\n 'NumAliphaticHeterocycles': 0,\n 'NumAliphaticRings': 1,\n 'NumAromaticCarbocycles': 0,\n 'NumAromaticHeterocycles': 0,\n 'NumAromaticRings': 0,\n 'NumHAcceptors': 2,\n 'NumHDonors': 0,\n 'NumHeteroatoms': 2,\n 'NumRotatableBonds': 0,\n 'NumSaturatedCarbocycles': 0,\n 'NumSaturatedHeterocycles': 0,\n 'NumSaturatedRings': 0,\n 'RingCount': 1,\n 'MolLogP': 0.25059999999999993,\n 'MolMR': 28.29399999999999,\n 'fr_Al_COO': 0,\n 'fr_Al_OH': 0,\n 'fr_Al_OH_noTert': 0,\n 'fr_ArN': 0,\n 'fr_Ar_COO': 0,\n 'fr_Ar_N': 0,\n 'fr_Ar_NH': 0,\n 'fr_Ar_OH': 0,\n 'fr_COO': 0,\n 'fr_COO2': 0,\n 'fr_C_O': 2,\n 'fr_C_O_noCOO': 2,\n 'fr_C_S': 0,\n 'fr_HOCCN': 0,\n 'fr_Imine': 0,\n 'fr_NH0': 0,\n 'fr_NH1': 0,\n 'fr_NH2': 0,\n 'fr_N_O': 0,\n 'fr_Ndealkylation1': 0,\n 'fr_Ndealkylation2': 0,\n 'fr_Nhpyrrole': 0,\n 'fr_SH': 0,\n 'fr_aldehyde': 0,\n 'fr_alkyl_carbamate': 0,\n 'fr_alkyl_halide': 0,\n 'fr_allylic_oxid': 4,\n 'fr_amide': 0,\n 'fr_amidine': 0,\n 'fr_aniline': 0,\n 'fr_aryl_methyl': 0,\n 'fr_azide': 0,\n 'fr_azo': 0,\n 'fr_barbitur': 0,\n 'fr_benzene': 0,\n 'fr_benzodiazepine': 0,\n 'fr_bicyclic': 0,\n 'fr_diazo': 0,\n 'fr_dihydropyridine': 0,\n 'fr_epoxide': 0,\n 'fr_ester': 0,\n 'fr_ether': 0,\n 'fr_furan': 0,\n 'fr_guanido': 0,\n 'fr_halogen': 0,\n 'fr_hdrzine': 0,\n 'fr_hdrzone': 0,\n 'fr_imidazole': 0,\n 'fr_imide': 0,\n 'fr_isocyan': 0,\n 'fr_isothiocyan': 0,\n 'fr_ketone': 2,\n 'fr_ketone_Topliss': 0,\n 'fr_lactam': 0,\n 'fr_lactone': 0,\n 'fr_methoxy': 0,\n 'fr_morpholine': 0,\n 'fr_nitrile': 0,\n 'fr_nitro': 0,\n 'fr_nitro_arom': 0,\n 'fr_nitro_arom_nonortho': 0,\n 'fr_nitroso': 0,\n 'fr_oxazole': 0,\n 'fr_oxime': 0,\n 'fr_para_hydroxylation': 0,\n 'fr_phenol': 0,\n 'fr_phenol_noOrthoHbond': 0,\n 'fr_phos_acid': 0,\n 'fr_phos_ester': 0,\n 'fr_piperdine': 0,\n 'fr_piperzine': 0,\n 'fr_priamide': 0,\n 'fr_prisulfonamd': 0,\n 'fr_pyridine': 0,\n 'fr_quatN': 0,\n 'fr_sulfide': 0,\n 'fr_sulfonamd': 0,\n 'fr_sulfone': 0,\n 'fr_term_acetylene': 0,\n 'fr_tetrazole': 0,\n 'fr_thiazole': 0,\n 'fr_thiocyan': 0,\n 'fr_thiophene': 0,\n 'fr_unbrch_alkane': 0,\n 'fr_urea': 0}"
     },
     "metadata": {},
     "execution_count": 5
    }
   ],
   "source": [
    "#descriptors can be obtained very easily\n",
    "desc.calc(\"O=C1C=CC(=O)C=C1\")"
   ]
  },
  {
   "cell_type": "code",
   "execution_count": 7,
   "metadata": {},
   "outputs": [
    {
     "output_type": "execute_result",
     "data": {
      "text/plain": "   MaxEStateIndex  MinEStateIndex  MaxAbsEStateIndex  MinAbsEStateIndex  \\\n0       10.282778       -0.120741          10.282778           0.120741   \n1        0.000000        0.000000           0.000000           0.000000   \n2        2.000000        2.000000           2.000000           2.000000   \n\n        qed    MolWt  HeavyAtomMolWt  ExactMolWt  NumValenceElectrons  \\\n0  0.416681  108.096         104.064  108.021129                   40   \n1  0.359785   16.043          12.011   16.031300                    8   \n2  0.372786   30.070          24.022   30.046950                   14   \n\n   NumRadicalElectrons  ...  fr_sulfide  fr_sulfonamd  fr_sulfone  \\\n0                    0  ...           0             0           0   \n1                    0  ...           0             0           0   \n2                    0  ...           0             0           0   \n\n   fr_term_acetylene  fr_tetrazole  fr_thiazole  fr_thiocyan  fr_thiophene  \\\n0                  0             0            0            0             0   \n1                  0             0            0            0             0   \n2                  0             0            0            0             0   \n\n   fr_unbrch_alkane  fr_urea  \n0                 0        0  \n1                 0        0  \n2                 0        0  \n\n[3 rows x 200 columns]",
      "text/html": "<div>\n<style scoped>\n    .dataframe tbody tr th:only-of-type {\n        vertical-align: middle;\n    }\n\n    .dataframe tbody tr th {\n        vertical-align: top;\n    }\n\n    .dataframe thead th {\n        text-align: right;\n    }\n</style>\n<table border=\"1\" class=\"dataframe\">\n  <thead>\n    <tr style=\"text-align: right;\">\n      <th></th>\n      <th>MaxEStateIndex</th>\n      <th>MinEStateIndex</th>\n      <th>MaxAbsEStateIndex</th>\n      <th>MinAbsEStateIndex</th>\n      <th>qed</th>\n      <th>MolWt</th>\n      <th>HeavyAtomMolWt</th>\n      <th>ExactMolWt</th>\n      <th>NumValenceElectrons</th>\n      <th>NumRadicalElectrons</th>\n      <th>...</th>\n      <th>fr_sulfide</th>\n      <th>fr_sulfonamd</th>\n      <th>fr_sulfone</th>\n      <th>fr_term_acetylene</th>\n      <th>fr_tetrazole</th>\n      <th>fr_thiazole</th>\n      <th>fr_thiocyan</th>\n      <th>fr_thiophene</th>\n      <th>fr_unbrch_alkane</th>\n      <th>fr_urea</th>\n    </tr>\n  </thead>\n  <tbody>\n    <tr>\n      <th>0</th>\n      <td>10.282778</td>\n      <td>-0.120741</td>\n      <td>10.282778</td>\n      <td>0.120741</td>\n      <td>0.416681</td>\n      <td>108.096</td>\n      <td>104.064</td>\n      <td>108.021129</td>\n      <td>40</td>\n      <td>0</td>\n      <td>...</td>\n      <td>0</td>\n      <td>0</td>\n      <td>0</td>\n      <td>0</td>\n      <td>0</td>\n      <td>0</td>\n      <td>0</td>\n      <td>0</td>\n      <td>0</td>\n      <td>0</td>\n    </tr>\n    <tr>\n      <th>1</th>\n      <td>0.000000</td>\n      <td>0.000000</td>\n      <td>0.000000</td>\n      <td>0.000000</td>\n      <td>0.359785</td>\n      <td>16.043</td>\n      <td>12.011</td>\n      <td>16.031300</td>\n      <td>8</td>\n      <td>0</td>\n      <td>...</td>\n      <td>0</td>\n      <td>0</td>\n      <td>0</td>\n      <td>0</td>\n      <td>0</td>\n      <td>0</td>\n      <td>0</td>\n      <td>0</td>\n      <td>0</td>\n      <td>0</td>\n    </tr>\n    <tr>\n      <th>2</th>\n      <td>2.000000</td>\n      <td>2.000000</td>\n      <td>2.000000</td>\n      <td>2.000000</td>\n      <td>0.372786</td>\n      <td>30.070</td>\n      <td>24.022</td>\n      <td>30.046950</td>\n      <td>14</td>\n      <td>0</td>\n      <td>...</td>\n      <td>0</td>\n      <td>0</td>\n      <td>0</td>\n      <td>0</td>\n      <td>0</td>\n      <td>0</td>\n      <td>0</td>\n      <td>0</td>\n      <td>0</td>\n      <td>0</td>\n    </tr>\n  </tbody>\n</table>\n<p>3 rows × 200 columns</p>\n</div>"
     },
     "metadata": {},
     "execution_count": 7
    }
   ],
   "source": [
    "#calc_list functions return a dataframe of descriptors of multiple smiles\n",
    "desc.calc_list([\"O=C1C=CC(=O)C=C1\",\"C\",\"CC\"])"
   ]
  },
  {
   "cell_type": "markdown",
   "metadata": {
    "colab": {},
    "colab_type": "code",
    "id": "Nz49eMwTDram",
    "outputId": "e085cd12-6a11-48af-ef25-f9f8cb73f08c"
   },
   "source": [
    "# Fingerprints can be calculated easily (* this was not used in the paper)"
   ]
  },
  {
   "cell_type": "code",
   "execution_count": 8,
   "metadata": {
    "colab": {},
    "colab_type": "code",
    "id": "Nz49eMwTDram",
    "outputId": "e085cd12-6a11-48af-ef25-f9f8cb73f08c"
   },
   "outputs": [],
   "source": [
    "#init class\n",
    "fp=Fingerprint()"
   ]
  },
  {
   "cell_type": "code",
   "execution_count": 10,
   "metadata": {},
   "outputs": [
    {
     "output_type": "execute_result",
     "data": {
      "text/plain": "[0,\n 0,\n 0,\n 0,\n 0,\n 0,\n 0,\n 0,\n 0,\n 0,\n 0,\n 0,\n 0,\n 0,\n 0,\n 0,\n 0,\n 0,\n 0,\n 0,\n 0,\n 0,\n 0,\n 0,\n 0,\n 0,\n 0,\n 0,\n 0,\n 0,\n 0,\n 0,\n 0,\n 0,\n 0,\n 0,\n 0,\n 0,\n 0,\n 0,\n 0,\n 0,\n 0,\n 0,\n 0,\n 0,\n 0,\n 0,\n 0,\n 0,\n 0,\n 0,\n 0,\n 0,\n 0,\n 0,\n 0,\n 0,\n 0,\n 0,\n 0,\n 0,\n 0,\n 0,\n 0,\n 0,\n 0,\n 0,\n 0,\n 0,\n 0,\n 0,\n 0,\n 0,\n 0,\n 0,\n 0,\n 0,\n 0,\n 0,\n 0,\n 0,\n 0,\n 0,\n 0,\n 0,\n 0,\n 0,\n 0,\n 0,\n 0,\n 0,\n 0,\n 0,\n 0,\n 0,\n 0,\n 0,\n 0,\n 0,\n 0,\n 0,\n 0,\n 0,\n 0,\n 0,\n 0,\n 0,\n 0,\n 0,\n 0,\n 0,\n 0,\n 0,\n 0,\n 0,\n 0,\n 0,\n 0,\n 0,\n 0,\n 0,\n 0,\n 0,\n 0,\n 0,\n 0,\n 0,\n 0,\n 0,\n 0,\n 0,\n 0,\n 0,\n 0,\n 0,\n 0,\n 0,\n 0,\n 0,\n 0,\n 0,\n 0,\n 0,\n 0,\n 0,\n 0,\n 0,\n 0,\n 0,\n 0,\n 0,\n 0,\n 0,\n 0,\n 0,\n 0,\n 0,\n 0,\n 0,\n 0,\n 0,\n 0,\n 0,\n 0,\n 0,\n 0,\n 0,\n 0,\n 0,\n 0,\n 0,\n 0,\n 0,\n 0,\n 0,\n 0,\n 0,\n 0,\n 0,\n 0,\n 0,\n 0,\n 0,\n 0,\n 0,\n 0,\n 0,\n 0,\n 0,\n 0,\n 0,\n 0,\n 0,\n 0,\n 0,\n 0,\n 0,\n 0,\n 0,\n 0,\n 0,\n 0,\n 0,\n 0,\n 0,\n 0,\n 0,\n 0,\n 0,\n 0,\n 0,\n 0,\n 0,\n 0,\n 0,\n 0,\n 0,\n 0,\n 0,\n 0,\n 0,\n 0,\n 0,\n 0,\n 0,\n 0,\n 0,\n 0,\n 0,\n 0,\n 0,\n 0,\n 0,\n 0,\n 0,\n 0,\n 0,\n 0,\n 0,\n 1,\n 0,\n 0,\n 0,\n 0,\n 0,\n 0,\n 0,\n 0,\n 0,\n 0,\n 0,\n 0,\n 0,\n 0,\n 0,\n 0,\n 0,\n 0,\n 0,\n 0,\n 0,\n 0,\n 0,\n 0,\n 0,\n 0,\n 0,\n 0,\n 0,\n 0,\n 0,\n 0,\n 0,\n 0,\n 0,\n 0,\n 0,\n 0,\n 0,\n 0,\n 0,\n 0,\n 0,\n 0,\n 0,\n 0,\n 0,\n 0,\n 0,\n 0,\n 0,\n 0,\n 0,\n 0,\n 0,\n 0,\n 0,\n 0,\n 0,\n 0,\n 0,\n 0,\n 0,\n 0,\n 0,\n 0,\n 0,\n 0,\n 0,\n 0,\n 0,\n 0,\n 0,\n 0,\n 0,\n 0,\n 0,\n 0,\n 0,\n 0,\n 0,\n 0,\n 0,\n 0,\n 0,\n 0,\n 0,\n 0,\n 0,\n 0,\n 0,\n 0,\n 0,\n 0,\n 0,\n 0,\n 0,\n 0,\n 0,\n 0,\n 0,\n 0,\n 0,\n 0,\n 0,\n 0,\n 0,\n 0,\n 0,\n 0,\n 0,\n 0,\n 0,\n 0,\n 0,\n 0,\n 0,\n 0,\n 0,\n 0,\n 0,\n 0,\n 0,\n 0,\n 0,\n 0,\n 0,\n 0,\n 0,\n 0,\n 0,\n 0,\n 0,\n 0,\n 0,\n 0,\n 0,\n 0,\n 0,\n 0,\n 0,\n 0,\n 0,\n 0,\n 0,\n 0,\n 0,\n 0,\n 0,\n 0,\n 0,\n 0,\n 0,\n 0,\n 0,\n 0,\n 0,\n 0,\n 0,\n 0,\n 0,\n 0,\n 0,\n 0,\n 0,\n 0,\n 0,\n 0,\n 0,\n 0,\n 0,\n 0,\n 0,\n 0,\n 0,\n 0,\n 0,\n 0,\n 0,\n 0,\n 0,\n 0,\n 0,\n 0,\n 0,\n 0,\n 0,\n 0,\n 0,\n 0,\n 0,\n 0,\n 0,\n 0,\n 0,\n 0,\n 0,\n 0,\n 0,\n 0,\n 0,\n 0,\n 0,\n 0,\n 0,\n 0,\n 0,\n 0,\n 0,\n 0,\n 0,\n 0,\n 0,\n 0,\n 0,\n 0,\n 0,\n 0,\n 0,\n 0,\n 0,\n 0,\n 0,\n 0,\n 0,\n 0,\n 0,\n 0,\n 0,\n 0,\n 0,\n 0,\n 0,\n 0,\n 0,\n 0,\n 0,\n 0,\n 0,\n 0,\n 0,\n 0,\n 0,\n 0,\n 0,\n 0,\n 0,\n 0,\n 0,\n 0,\n 0,\n 0,\n 0,\n 0,\n 0,\n 0,\n 0,\n 0,\n 0,\n 0,\n 0,\n 0,\n 0,\n 0,\n 0,\n 0,\n 0,\n 0,\n 0,\n 0,\n 0]"
     },
     "metadata": {},
     "execution_count": 10
    }
   ],
   "source": [
    "fp.calc(\"C\")"
   ]
  },
  {
   "cell_type": "code",
   "execution_count": 11,
   "metadata": {
    "colab": {},
    "colab_type": "code",
    "id": "KiQf66ZMDrar",
    "outputId": "9b912d4e-5855-42b0-e54d-0f5701173f8c"
   },
   "outputs": [
    {
     "output_type": "execute_result",
     "data": {
      "text/plain": "   0    1    2    3    4    5    6    7    8    9    ...  502  503  504  505  \\\n0    0    0    0    0    0    0    0    0    0    0  ...    0    0    0    0   \n1    0    0    0    0    0    0    0    0    0    0  ...    0    0    0    0   \n\n   506  507  508  509  510  511  \n0    0    0    0    0    0    0  \n1    0    0    0    0    0    0  \n\n[2 rows x 512 columns]",
      "text/html": "<div>\n<style scoped>\n    .dataframe tbody tr th:only-of-type {\n        vertical-align: middle;\n    }\n\n    .dataframe tbody tr th {\n        vertical-align: top;\n    }\n\n    .dataframe thead th {\n        text-align: right;\n    }\n</style>\n<table border=\"1\" class=\"dataframe\">\n  <thead>\n    <tr style=\"text-align: right;\">\n      <th></th>\n      <th>0</th>\n      <th>1</th>\n      <th>2</th>\n      <th>3</th>\n      <th>4</th>\n      <th>5</th>\n      <th>6</th>\n      <th>7</th>\n      <th>8</th>\n      <th>9</th>\n      <th>...</th>\n      <th>502</th>\n      <th>503</th>\n      <th>504</th>\n      <th>505</th>\n      <th>506</th>\n      <th>507</th>\n      <th>508</th>\n      <th>509</th>\n      <th>510</th>\n      <th>511</th>\n    </tr>\n  </thead>\n  <tbody>\n    <tr>\n      <th>0</th>\n      <td>0</td>\n      <td>0</td>\n      <td>0</td>\n      <td>0</td>\n      <td>0</td>\n      <td>0</td>\n      <td>0</td>\n      <td>0</td>\n      <td>0</td>\n      <td>0</td>\n      <td>...</td>\n      <td>0</td>\n      <td>0</td>\n      <td>0</td>\n      <td>0</td>\n      <td>0</td>\n      <td>0</td>\n      <td>0</td>\n      <td>0</td>\n      <td>0</td>\n      <td>0</td>\n    </tr>\n    <tr>\n      <th>1</th>\n      <td>0</td>\n      <td>0</td>\n      <td>0</td>\n      <td>0</td>\n      <td>0</td>\n      <td>0</td>\n      <td>0</td>\n      <td>0</td>\n      <td>0</td>\n      <td>0</td>\n      <td>...</td>\n      <td>0</td>\n      <td>0</td>\n      <td>0</td>\n      <td>0</td>\n      <td>0</td>\n      <td>0</td>\n      <td>0</td>\n      <td>0</td>\n      <td>0</td>\n      <td>0</td>\n    </tr>\n  </tbody>\n</table>\n<p>2 rows × 512 columns</p>\n</div>"
     },
     "metadata": {},
     "execution_count": 11
    }
   ],
   "source": [
    "fp.calc_list([\"C\",\"CC\"])"
   ]
  },
  {
   "cell_type": "code",
   "execution_count": null,
   "metadata": {},
   "outputs": [],
   "source": []
  }
 ],
 "metadata": {
  "colab": {
   "name": "rdkit.ipynb",
   "provenance": []
  },
  "kernelspec": {
   "display_name": "Python 3",
   "language": "python",
   "name": "python3"
  },
  "language_info": {
   "codemirror_mode": {
    "name": "ipython",
    "version": 3
   },
   "file_extension": ".py",
   "mimetype": "text/x-python",
   "name": "python",
   "nbconvert_exporter": "python",
   "pygments_lexer": "ipython3",
   "version": "3.7.7-final"
  },
  "toc": {
   "base_numbering": 1,
   "nav_menu": {},
   "number_sections": true,
   "sideBar": true,
   "skip_h1_title": false,
   "title_cell": "Table of Contents",
   "title_sidebar": "Contents",
   "toc_cell": false,
   "toc_position": {},
   "toc_section_display": true,
   "toc_window_display": false
  }
 },
 "nbformat": 4,
 "nbformat_minor": 1
}